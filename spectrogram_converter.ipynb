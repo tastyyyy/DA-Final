{
 "cells": [
  {
   "cell_type": "code",
   "execution_count": 14,
   "metadata": {},
   "outputs": [],
   "source": [
    "import librosa\n",
    "import librosa.display\n",
    "import matplotlib.pyplot as plt\n",
    "import numpy as np\n",
    "import os\n",
    "from pathlib import Path"
   ]
  },
  {
   "cell_type": "code",
   "execution_count": 17,
   "metadata": {},
   "outputs": [],
   "source": [
    "def convert_spectrogram(file_name, category, img_name):\n",
    "    # Load audio and convert to spectrogram\n",
    "    y, sr = librosa.load(file_name)\n",
    "    spec = librosa.feature.melspectrogram(y = y, sr = sr, n_mels = 256, fmax = 8000)\n",
    "    S_db = librosa.power_to_db(spec, ref=np.max)\n",
    "    plt.figure(figsize = (4, 4), dpi = 100)\n",
    "    librosa.display.specshow(S_db, x_axis = None, y_axis = None, sr = sr, fmax = 8000)\n",
    "\n",
    "    # Adjust plot to remove margins\n",
    "    plt.axis('off')\n",
    "    plt.xticks([]), plt.yticks([])\n",
    "    plt.subplots_adjust(left = 0, bottom = 0, right = 1, top = 1, hspace = 0, wspace = 0)\n",
    "\n",
    "    # Check path and create image folder if needed\n",
    "    dir = Path(f'./spectograms/{category}')\n",
    "    if not dir.exists(): os.makedirs(dir)\n",
    "    \n",
    "    # Save plot as png\n",
    "    plt.savefig(dir / f'{img_name}.png', bbox_inches = 'tight', pad_inches = 0, dpi = 100)"
   ]
  },
  {
   "cell_type": "code",
   "execution_count": null,
   "metadata": {},
   "outputs": [],
   "source": []
  }
 ],
 "metadata": {
  "kernelspec": {
   "display_name": "Python 3.10.6 64-bit",
   "language": "python",
   "name": "python3"
  },
  "language_info": {
   "codemirror_mode": {
    "name": "ipython",
    "version": 3
   },
   "file_extension": ".py",
   "mimetype": "text/x-python",
   "name": "python",
   "nbconvert_exporter": "python",
   "pygments_lexer": "ipython3",
   "version": "3.10.6"
  },
  "orig_nbformat": 4,
  "vscode": {
   "interpreter": {
    "hash": "aee8b7b246df8f9039afb4144a1f6fd8d2ca17a180786b69acc140d282b71a49"
   }
  }
 },
 "nbformat": 4,
 "nbformat_minor": 2
}
